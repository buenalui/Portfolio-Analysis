{
 "cells": [
  {
   "cell_type": "code",
   "execution_count": 2,
   "id": "a9a33e3c-ba84-454e-9dc6-76f33ae50908",
   "metadata": {},
   "outputs": [],
   "source": [
    "# Initial imports\n",
    "import pandas as pd\n",
    "import numpy as np\n",
    "import datetime as dt\n",
    "from pathlib import Path\n",
    "import seaborn as sns\n",
    "%matplotlib inline\n",
    "\n"
   ]
  },
  {
   "cell_type": "code",
   "execution_count": 3,
   "id": "27f3cb29-83ef-4979-a883-fa072dfe8838",
   "metadata": {},
   "outputs": [],
   "source": [
    "# Set the file paths\n",
    "whale_returns = Path(\"whale_returns.csv\")\n",
    "algo_returns = Path(\"algo_returns.csv\")\n",
    "sp500_history = Path(\"sp500_history.csv\")\n",
    "\n",
    "# Read the CSVs and set the `date` column as a datetime index to the DataFrame\n",
    "whale_returns_df = pd.read_csv(whale_returns, index_col=\"Date\", infer_datetime_format=True, parse_dates=True)\n",
    "algo_returns_df = pd.read_csv(algo_returns, index_col=\"Date\", infer_datetime_format=True, parse_dates=True)\n",
    "sp500_history_df = pd.read_csv(sp500_history, index_col=\"Date\", infer_datetime_format=True, parse_dates=True)\n"
   ]
  },
  {
   "cell_type": "markdown",
   "id": "09a5613f-38b5-4133-90eb-1e2725402a3b",
   "metadata": {},
   "source": [
    "### Whale Returns\n",
    "Read the Whale Portfolio daily returns and clean the data"
   ]
  },
  {
   "cell_type": "code",
   "execution_count": 4,
   "id": "23fc5750-374b-4092-a364-d1da3b8220da",
   "metadata": {},
   "outputs": [],
   "source": [
    "# Reading whale returns\n",
    "whale_returns_df = pd.read_csv(whale_returns, index_col=\"Date\", infer_datetime_format=True, parse_dates=True)"
   ]
  },
  {
   "cell_type": "code",
   "execution_count": 5,
   "id": "48e038b7-44b6-43b4-9b9c-0acf90ab8476",
   "metadata": {},
   "outputs": [
    {
     "data": {
      "text/plain": [
       "SOROS FUND MANAGEMENT LLC      1060\n",
       "PAULSON & CO.INC.              1060\n",
       "TIGER GLOBAL MANAGEMENT LLC    1060\n",
       "BERKSHIRE HATHAWAY INC         1060\n",
       "dtype: int64"
      ]
     },
     "execution_count": 5,
     "metadata": {},
     "output_type": "execute_result"
    }
   ],
   "source": [
    "# Count nulls\n",
    "whale_returns_df.isnull().count()"
   ]
  },
  {
   "cell_type": "code",
   "execution_count": 28,
   "id": "9340e548-5cef-4d96-8477-40f3d333c6c7",
   "metadata": {},
   "outputs": [
    {
     "data": {
      "text/plain": [
       "SOROS FUND MANAGEMENT LLC      0\n",
       "PAULSON & CO.INC.              0\n",
       "TIGER GLOBAL MANAGEMENT LLC    0\n",
       "BERKSHIRE HATHAWAY INC         0\n",
       "dtype: int64"
      ]
     },
     "execution_count": 28,
     "metadata": {},
     "output_type": "execute_result"
    }
   ],
   "source": [
    "# Drop nulls\n",
    "whale_returns_df = whale_returns_df.dropna()\n",
    "\n",
    "#Verify that all nulls have been dropped\n",
    "whale_returns_df.isnull().sum()"
   ]
  },
  {
   "cell_type": "markdown",
   "id": "50b33e50-bde9-4eac-847a-5bc64fb847aa",
   "metadata": {},
   "source": [
    "### Algorithmic Daily Returns\n",
    "Read the algorithmic daily returns and clean the data"
   ]
  },
  {
   "cell_type": "code",
   "execution_count": 7,
   "id": "800cd1e4-0956-4b51-8438-7d009326d438",
   "metadata": {},
   "outputs": [],
   "source": [
    "# Reading algorithmic returns\n",
    "algo_returns_df = pd.read_csv(algo_returns, index_col=\"Date\", infer_datetime_format=True, parse_dates=True)"
   ]
  },
  {
   "cell_type": "code",
   "execution_count": 8,
   "id": "70f9cf2c-a8cc-4f5a-a6e2-b989640fd3d4",
   "metadata": {},
   "outputs": [
    {
     "data": {
      "text/plain": [
       "Algo 1    1241\n",
       "Algo 2    1241\n",
       "dtype: int64"
      ]
     },
     "execution_count": 8,
     "metadata": {},
     "output_type": "execute_result"
    }
   ],
   "source": [
    "# Count nulls\n",
    "algo_returns_df.isnull().count()\n",
    "\n"
   ]
  },
  {
   "cell_type": "code",
   "execution_count": 57,
   "id": "2e287191-4936-4e2f-b106-2044bbed9746",
   "metadata": {},
   "outputs": [
    {
     "data": {
      "text/plain": [
       "Algo 1    0\n",
       "Algo 2    0\n",
       "dtype: int64"
      ]
     },
     "execution_count": 57,
     "metadata": {},
     "output_type": "execute_result"
    }
   ],
   "source": [
    "# Drop nulls\n",
    "algo_returns_df = algo_returns_df.dropna()\n",
    "\n",
    "#verify all NAs have been dropped\n",
    "\n",
    "algo_returns_df.isnull().sum()\n"
   ]
  },
  {
   "cell_type": "markdown",
   "id": "4b47a755-297f-4291-a079-1b2d974dadbc",
   "metadata": {},
   "source": [
    "### S&P 500 Returns\n",
    "Read the S&P 500 historic closing prices and create a new daily returns DataFrame from the data."
   ]
  },
  {
   "cell_type": "code",
   "execution_count": 31,
   "id": "31a046c0-53a3-4094-9d3e-242411869476",
   "metadata": {},
   "outputs": [],
   "source": [
    "# Reading S&P 500 Closing Prices\n",
    "sp500_history_df = pd.read_csv(sp500_history, index_col=\"Date\", infer_datetime_format=True, parse_dates=True)\n",
    "\n"
   ]
  },
  {
   "cell_type": "code",
   "execution_count": 32,
   "id": "40da0d26-f253-4df5-b7d6-8fa9cf3592d0",
   "metadata": {},
   "outputs": [
    {
     "data": {
      "text/plain": [
       "Close    object\n",
       "dtype: object"
      ]
     },
     "execution_count": 32,
     "metadata": {},
     "output_type": "execute_result"
    }
   ],
   "source": [
    "# Check Data Types\n",
    "sp500_history_df.dtypes"
   ]
  },
  {
   "cell_type": "code",
   "execution_count": 33,
   "id": "135bde26-5e44-4b2a-a6ef-f6b5331cdd56",
   "metadata": {},
   "outputs": [
    {
     "name": "stderr",
     "output_type": "stream",
     "text": [
      "C:\\Users\\Brian\\anaconda3\\envs\\dev\\lib\\site-packages\\ipykernel_launcher.py:4: FutureWarning: The default value of regex will change from True to False in a future version. In addition, single character regular expressions will *not* be treated as literal strings when regex=True.\n",
      "  after removing the cwd from sys.path.\n"
     ]
    }
   ],
   "source": [
    "# Fix Data Types\n",
    "sp500_history_df.isnull().count()\n",
    "\n",
    "sp500_history_df[\"Close\"] = sp500_history_df[\"Close\"].str.replace(\"$\", \"\")\n",
    "sp500_history_df[\"Close\"] = sp500_history_df[\"Close\"].astype(\"float\")\n"
   ]
  },
  {
   "cell_type": "code",
   "execution_count": 87,
   "id": "b2d51dfc-c63d-402a-977c-bc8f2b79b2d8",
   "metadata": {},
   "outputs": [],
   "source": [
    "# Calculate Daily Returns\n",
    "\n",
    "\n",
    "\n",
    "sp500_daily_ret = sp500_history_df.pct_change()"
   ]
  },
  {
   "cell_type": "code",
   "execution_count": 88,
   "id": "8c3b1f88-3b07-4c9d-8481-9d6bad4d5e4f",
   "metadata": {},
   "outputs": [
    {
     "data": {
      "text/html": [
       "<div>\n",
       "<style scoped>\n",
       "    .dataframe tbody tr th:only-of-type {\n",
       "        vertical-align: middle;\n",
       "    }\n",
       "\n",
       "    .dataframe tbody tr th {\n",
       "        vertical-align: top;\n",
       "    }\n",
       "\n",
       "    .dataframe thead th {\n",
       "        text-align: right;\n",
       "    }\n",
       "</style>\n",
       "<table border=\"1\" class=\"dataframe\">\n",
       "  <thead>\n",
       "    <tr style=\"text-align: right;\">\n",
       "      <th></th>\n",
       "      <th>SP500</th>\n",
       "    </tr>\n",
       "    <tr>\n",
       "      <th>Date</th>\n",
       "      <th></th>\n",
       "    </tr>\n",
       "  </thead>\n",
       "  <tbody>\n",
       "    <tr>\n",
       "      <th>2019-04-16</th>\n",
       "      <td>2.290759</td>\n",
       "    </tr>\n",
       "    <tr>\n",
       "      <th>2019-04-15</th>\n",
       "      <td>-0.906968</td>\n",
       "    </tr>\n",
       "    <tr>\n",
       "      <th>2019-04-12</th>\n",
       "      <td>-2.658096</td>\n",
       "    </tr>\n",
       "    <tr>\n",
       "      <th>2019-04-11</th>\n",
       "      <td>3.956560</td>\n",
       "    </tr>\n",
       "    <tr>\n",
       "      <th>2019-04-10</th>\n",
       "      <td>-1.222295</td>\n",
       "    </tr>\n",
       "    <tr>\n",
       "      <th>...</th>\n",
       "      <td>...</td>\n",
       "    </tr>\n",
       "    <tr>\n",
       "      <th>2012-10-05</th>\n",
       "      <td>1.042546</td>\n",
       "    </tr>\n",
       "    <tr>\n",
       "      <th>2012-10-04</th>\n",
       "      <td>-1.187414</td>\n",
       "    </tr>\n",
       "    <tr>\n",
       "      <th>2012-10-03</th>\n",
       "      <td>61.865579</td>\n",
       "    </tr>\n",
       "    <tr>\n",
       "      <th>2012-10-02</th>\n",
       "      <td>-1.039934</td>\n",
       "    </tr>\n",
       "    <tr>\n",
       "      <th>2012-10-01</th>\n",
       "      <td>-1.550531</td>\n",
       "    </tr>\n",
       "  </tbody>\n",
       "</table>\n",
       "<p>1645 rows × 1 columns</p>\n",
       "</div>"
      ],
      "text/plain": [
       "                SP500\n",
       "Date                 \n",
       "2019-04-16   2.290759\n",
       "2019-04-15  -0.906968\n",
       "2019-04-12  -2.658096\n",
       "2019-04-11   3.956560\n",
       "2019-04-10  -1.222295\n",
       "...               ...\n",
       "2012-10-05   1.042546\n",
       "2012-10-04  -1.187414\n",
       "2012-10-03  61.865579\n",
       "2012-10-02  -1.039934\n",
       "2012-10-01  -1.550531\n",
       "\n",
       "[1645 rows x 1 columns]"
      ]
     },
     "execution_count": 88,
     "metadata": {},
     "output_type": "execute_result"
    }
   ],
   "source": [
    "# Drop nulls\n",
    "\n",
    "sp500_daily_ret.dropna()"
   ]
  },
  {
   "cell_type": "code",
   "execution_count": 89,
   "id": "da87f6ef-c6f1-474c-a7b3-976882d6532a",
   "metadata": {},
   "outputs": [],
   "source": [
    "# Rename `Close` Column to be specific to this portfolio.\n",
    "\n",
    "sp500_daily_ret.rename(columns = {\"Close\" : \"SP500\"}, inplace=True)"
   ]
  },
  {
   "cell_type": "markdown",
   "id": "77cf80cc-e2fb-481a-9959-cb930668e52f",
   "metadata": {},
   "source": [
    "### Combine Whale, Algorithmic, and S&P 500 Returns"
   ]
  },
  {
   "cell_type": "code",
   "execution_count": 91,
   "id": "59d9c5b1-8a36-4ff7-a7a9-47eccaf63cb2",
   "metadata": {},
   "outputs": [
    {
     "data": {
      "text/html": [
       "<div>\n",
       "<style scoped>\n",
       "    .dataframe tbody tr th:only-of-type {\n",
       "        vertical-align: middle;\n",
       "    }\n",
       "\n",
       "    .dataframe tbody tr th {\n",
       "        vertical-align: top;\n",
       "    }\n",
       "\n",
       "    .dataframe thead th {\n",
       "        text-align: right;\n",
       "    }\n",
       "</style>\n",
       "<table border=\"1\" class=\"dataframe\">\n",
       "  <thead>\n",
       "    <tr style=\"text-align: right;\">\n",
       "      <th></th>\n",
       "      <th>SP500</th>\n",
       "      <th>Algo 1</th>\n",
       "      <th>Algo 2</th>\n",
       "      <th>SOROS FUND MANAGEMENT LLC</th>\n",
       "      <th>PAULSON &amp; CO.INC.</th>\n",
       "      <th>TIGER GLOBAL MANAGEMENT LLC</th>\n",
       "      <th>BERKSHIRE HATHAWAY INC</th>\n",
       "    </tr>\n",
       "    <tr>\n",
       "      <th>Date</th>\n",
       "      <th></th>\n",
       "      <th></th>\n",
       "      <th></th>\n",
       "      <th></th>\n",
       "      <th></th>\n",
       "      <th></th>\n",
       "      <th></th>\n",
       "    </tr>\n",
       "  </thead>\n",
       "  <tbody>\n",
       "    <tr>\n",
       "      <th>2019-04-23</th>\n",
       "      <td>NaN</td>\n",
       "      <td>0.004969</td>\n",
       "      <td>0.009622</td>\n",
       "      <td>0.007167</td>\n",
       "      <td>0.003485</td>\n",
       "      <td>0.006472</td>\n",
       "      <td>0.013278</td>\n",
       "    </tr>\n",
       "    <tr>\n",
       "      <th>2019-04-22</th>\n",
       "      <td>NaN</td>\n",
       "      <td>0.000677</td>\n",
       "      <td>-0.001936</td>\n",
       "      <td>-0.002586</td>\n",
       "      <td>-0.007333</td>\n",
       "      <td>-0.003640</td>\n",
       "      <td>-0.001088</td>\n",
       "    </tr>\n",
       "    <tr>\n",
       "      <th>2019-04-18</th>\n",
       "      <td>NaN</td>\n",
       "      <td>-0.000588</td>\n",
       "      <td>-0.001229</td>\n",
       "      <td>0.001448</td>\n",
       "      <td>0.001222</td>\n",
       "      <td>0.000582</td>\n",
       "      <td>0.001916</td>\n",
       "    </tr>\n",
       "    <tr>\n",
       "      <th>2019-04-17</th>\n",
       "      <td>NaN</td>\n",
       "      <td>-0.010301</td>\n",
       "      <td>-0.005228</td>\n",
       "      <td>-0.002897</td>\n",
       "      <td>-0.006467</td>\n",
       "      <td>-0.004409</td>\n",
       "      <td>0.003222</td>\n",
       "    </tr>\n",
       "    <tr>\n",
       "      <th>2019-04-16</th>\n",
       "      <td>2.290759</td>\n",
       "      <td>-0.006945</td>\n",
       "      <td>0.002899</td>\n",
       "      <td>0.002699</td>\n",
       "      <td>0.000388</td>\n",
       "      <td>-0.000831</td>\n",
       "      <td>0.000837</td>\n",
       "    </tr>\n",
       "    <tr>\n",
       "      <th>...</th>\n",
       "      <td>...</td>\n",
       "      <td>...</td>\n",
       "      <td>...</td>\n",
       "      <td>...</td>\n",
       "      <td>...</td>\n",
       "      <td>...</td>\n",
       "      <td>...</td>\n",
       "    </tr>\n",
       "    <tr>\n",
       "      <th>2015-03-10</th>\n",
       "      <td>-1.572379</td>\n",
       "      <td>-0.001392</td>\n",
       "      <td>-0.012155</td>\n",
       "      <td>-0.010263</td>\n",
       "      <td>-0.005341</td>\n",
       "      <td>-0.012079</td>\n",
       "      <td>-0.009739</td>\n",
       "    </tr>\n",
       "    <tr>\n",
       "      <th>2015-03-09</th>\n",
       "      <td>11.767156</td>\n",
       "      <td>-0.005447</td>\n",
       "      <td>0.001303</td>\n",
       "      <td>0.000582</td>\n",
       "      <td>0.004225</td>\n",
       "      <td>0.005843</td>\n",
       "      <td>-0.001652</td>\n",
       "    </tr>\n",
       "    <tr>\n",
       "      <th>2015-03-06</th>\n",
       "      <td>-0.854182</td>\n",
       "      <td>-0.004957</td>\n",
       "      <td>-0.011460</td>\n",
       "      <td>-0.007905</td>\n",
       "      <td>-0.003574</td>\n",
       "      <td>-0.008481</td>\n",
       "      <td>-0.013098</td>\n",
       "    </tr>\n",
       "    <tr>\n",
       "      <th>2015-03-05</th>\n",
       "      <td>-3.422513</td>\n",
       "      <td>-0.000955</td>\n",
       "      <td>0.004323</td>\n",
       "      <td>0.004016</td>\n",
       "      <td>0.004076</td>\n",
       "      <td>0.002355</td>\n",
       "      <td>0.006726</td>\n",
       "    </tr>\n",
       "    <tr>\n",
       "      <th>2015-03-04</th>\n",
       "      <td>-1.274595</td>\n",
       "      <td>-0.008589</td>\n",
       "      <td>0.002416</td>\n",
       "      <td>0.002230</td>\n",
       "      <td>0.003241</td>\n",
       "      <td>-0.002534</td>\n",
       "      <td>0.004213</td>\n",
       "    </tr>\n",
       "  </tbody>\n",
       "</table>\n",
       "<p>1042 rows × 7 columns</p>\n",
       "</div>"
      ],
      "text/plain": [
       "                SP500    Algo 1    Algo 2  SOROS FUND MANAGEMENT LLC  \\\n",
       "Date                                                                   \n",
       "2019-04-23        NaN  0.004969  0.009622                   0.007167   \n",
       "2019-04-22        NaN  0.000677 -0.001936                  -0.002586   \n",
       "2019-04-18        NaN -0.000588 -0.001229                   0.001448   \n",
       "2019-04-17        NaN -0.010301 -0.005228                  -0.002897   \n",
       "2019-04-16   2.290759 -0.006945  0.002899                   0.002699   \n",
       "...               ...       ...       ...                        ...   \n",
       "2015-03-10  -1.572379 -0.001392 -0.012155                  -0.010263   \n",
       "2015-03-09  11.767156 -0.005447  0.001303                   0.000582   \n",
       "2015-03-06  -0.854182 -0.004957 -0.011460                  -0.007905   \n",
       "2015-03-05  -3.422513 -0.000955  0.004323                   0.004016   \n",
       "2015-03-04  -1.274595 -0.008589  0.002416                   0.002230   \n",
       "\n",
       "            PAULSON & CO.INC.   TIGER GLOBAL MANAGEMENT LLC  \\\n",
       "Date                                                          \n",
       "2019-04-23            0.003485                     0.006472   \n",
       "2019-04-22           -0.007333                    -0.003640   \n",
       "2019-04-18            0.001222                     0.000582   \n",
       "2019-04-17           -0.006467                    -0.004409   \n",
       "2019-04-16            0.000388                    -0.000831   \n",
       "...                        ...                          ...   \n",
       "2015-03-10           -0.005341                    -0.012079   \n",
       "2015-03-09            0.004225                     0.005843   \n",
       "2015-03-06           -0.003574                    -0.008481   \n",
       "2015-03-05            0.004076                     0.002355   \n",
       "2015-03-04            0.003241                    -0.002534   \n",
       "\n",
       "            BERKSHIRE HATHAWAY INC  \n",
       "Date                                \n",
       "2019-04-23                0.013278  \n",
       "2019-04-22               -0.001088  \n",
       "2019-04-18                0.001916  \n",
       "2019-04-17                0.003222  \n",
       "2019-04-16                0.000837  \n",
       "...                            ...  \n",
       "2015-03-10               -0.009739  \n",
       "2015-03-09               -0.001652  \n",
       "2015-03-06               -0.013098  \n",
       "2015-03-05                0.006726  \n",
       "2015-03-04                0.004213  \n",
       "\n",
       "[1042 rows x 7 columns]"
      ]
     },
     "execution_count": 91,
     "metadata": {},
     "output_type": "execute_result"
    }
   ],
   "source": [
    "# Join Whale Returns, Algorithmic Returns, and the S&P 500 Returns into a single DataFrame with columns for each portfolio's returns.\n",
    "\n",
    "combined_df = pd.concat([sp500_daily_ret, algo_returns_df, whale_returns_df], axis=\"columns\", join=\"inner\")\n",
    "combined_df.head(-1)"
   ]
  },
  {
   "cell_type": "markdown",
   "id": "ebaacde0-0086-47c2-a076-32cc4c895496",
   "metadata": {},
   "source": [
    "## Conduct Quantitative Analysis\n",
    "In this section, you will calculate and visualize performance and risk metrics for the portfolios."
   ]
  },
  {
   "cell_type": "markdown",
   "id": "983aa878-6890-4170-9e5d-2446fe4878c0",
   "metadata": {},
   "source": [
    "### Performance Anlysis\n",
    "Calculate and Plot the daily returns."
   ]
  },
  {
   "cell_type": "code",
   "execution_count": 104,
   "id": "2add66d0-f6db-4839-a50c-59d50e6d489f",
   "metadata": {},
   "outputs": [
    {
     "data": {
      "text/html": [
       "<div>\n",
       "<style scoped>\n",
       "    .dataframe tbody tr th:only-of-type {\n",
       "        vertical-align: middle;\n",
       "    }\n",
       "\n",
       "    .dataframe tbody tr th {\n",
       "        vertical-align: top;\n",
       "    }\n",
       "\n",
       "    .dataframe thead th {\n",
       "        text-align: right;\n",
       "    }\n",
       "</style>\n",
       "<table border=\"1\" class=\"dataframe\">\n",
       "  <thead>\n",
       "    <tr style=\"text-align: right;\">\n",
       "      <th></th>\n",
       "      <th>SP500</th>\n",
       "      <th>Algo 1</th>\n",
       "      <th>Algo 2</th>\n",
       "      <th>SOROS FUND MANAGEMENT LLC</th>\n",
       "      <th>PAULSON &amp; CO.INC.</th>\n",
       "      <th>TIGER GLOBAL MANAGEMENT LLC</th>\n",
       "      <th>BERKSHIRE HATHAWAY INC</th>\n",
       "    </tr>\n",
       "    <tr>\n",
       "      <th>Date</th>\n",
       "      <th></th>\n",
       "      <th></th>\n",
       "      <th></th>\n",
       "      <th></th>\n",
       "      <th></th>\n",
       "      <th></th>\n",
       "      <th></th>\n",
       "    </tr>\n",
       "  </thead>\n",
       "  <tbody>\n",
       "    <tr>\n",
       "      <th>2019-04-23</th>\n",
       "      <td>NaN</td>\n",
       "      <td>NaN</td>\n",
       "      <td>NaN</td>\n",
       "      <td>NaN</td>\n",
       "      <td>NaN</td>\n",
       "      <td>NaN</td>\n",
       "      <td>NaN</td>\n",
       "    </tr>\n",
       "    <tr>\n",
       "      <th>2019-04-22</th>\n",
       "      <td>NaN</td>\n",
       "      <td>-0.863857</td>\n",
       "      <td>-1.201184</td>\n",
       "      <td>-1.360764</td>\n",
       "      <td>-3.104305</td>\n",
       "      <td>-1.562478</td>\n",
       "      <td>-1.081925</td>\n",
       "    </tr>\n",
       "    <tr>\n",
       "      <th>2019-04-18</th>\n",
       "      <td>NaN</td>\n",
       "      <td>-1.868976</td>\n",
       "      <td>-0.364991</td>\n",
       "      <td>-1.559965</td>\n",
       "      <td>-1.166626</td>\n",
       "      <td>-1.159757</td>\n",
       "      <td>-2.761467</td>\n",
       "    </tr>\n",
       "    <tr>\n",
       "      <th>2019-04-17</th>\n",
       "      <td>NaN</td>\n",
       "      <td>16.521245</td>\n",
       "      <td>3.253330</td>\n",
       "      <td>-3.000629</td>\n",
       "      <td>-6.293097</td>\n",
       "      <td>-8.582317</td>\n",
       "      <td>0.681647</td>\n",
       "    </tr>\n",
       "    <tr>\n",
       "      <th>2019-04-16</th>\n",
       "      <td>NaN</td>\n",
       "      <td>-0.325825</td>\n",
       "      <td>-1.554579</td>\n",
       "      <td>-1.931873</td>\n",
       "      <td>-1.060020</td>\n",
       "      <td>-0.811553</td>\n",
       "      <td>-0.740329</td>\n",
       "    </tr>\n",
       "  </tbody>\n",
       "</table>\n",
       "</div>"
      ],
      "text/plain": [
       "            SP500     Algo 1    Algo 2  SOROS FUND MANAGEMENT LLC  \\\n",
       "Date                                                                \n",
       "2019-04-23    NaN        NaN       NaN                        NaN   \n",
       "2019-04-22    NaN  -0.863857 -1.201184                  -1.360764   \n",
       "2019-04-18    NaN  -1.868976 -0.364991                  -1.559965   \n",
       "2019-04-17    NaN  16.521245  3.253330                  -3.000629   \n",
       "2019-04-16    NaN  -0.325825 -1.554579                  -1.931873   \n",
       "\n",
       "            PAULSON & CO.INC.   TIGER GLOBAL MANAGEMENT LLC  \\\n",
       "Date                                                          \n",
       "2019-04-23                 NaN                          NaN   \n",
       "2019-04-22           -3.104305                    -1.562478   \n",
       "2019-04-18           -1.166626                    -1.159757   \n",
       "2019-04-17           -6.293097                    -8.582317   \n",
       "2019-04-16           -1.060020                    -0.811553   \n",
       "\n",
       "            BERKSHIRE HATHAWAY INC  \n",
       "Date                                \n",
       "2019-04-23                     NaN  \n",
       "2019-04-22               -1.081925  \n",
       "2019-04-18               -2.761467  \n",
       "2019-04-17                0.681647  \n",
       "2019-04-16               -0.740329  "
      ]
     },
     "execution_count": 104,
     "metadata": {},
     "output_type": "execute_result"
    }
   ],
   "source": [
    "# Plot daily returns of all portfolios\n",
    "whale_daily_returns = (whale_returns_df).pct_change()\n",
    "algo_daily_returns = (algo_returns_df).pct_change()\n",
    "sp500_daily_returns = (sp500_history_df).pct_change()\n",
    "\n",
    "daily_returns = combined_df.pct_change()\n",
    "daily_returns.head()"
   ]
  },
  {
   "cell_type": "markdown",
   "id": "b9a5951e-2ce1-40fd-ab2b-db60e9c527db",
   "metadata": {},
   "source": [
    " Calculate and Plot cumulative returns."
   ]
  },
  {
   "cell_type": "code",
   "execution_count": 93,
   "id": "b3564367-692d-4ec8-891e-8f5a1dc9fd17",
   "metadata": {},
   "outputs": [
    {
     "data": {
      "text/plain": [
       "<AxesSubplot:xlabel='Date'>"
      ]
     },
     "execution_count": 93,
     "metadata": {},
     "output_type": "execute_result"
    },
    {
     "data": {
      "image/png": "[encoded data removed]",
      "text/plain": [
       "<Figure size 1440x720 with 1 Axes>"
      ]
     },
     "metadata": {
      "needs_background": "light"
     },
     "output_type": "display_data"
    }
   ],
   "source": [
    "# Calculate cumulative returns of all portfolios\n",
    "whale_cum_prod = (whale_daily_returns).cumprod()\n",
    "algo_cum_prod = (algo_daily_returns).cumprod()\n",
    "sp500_cum_prod = (sp500_daily_returns).cumprod()\n",
    "daily_returns_cumprod = combined_df.cumprod()\n",
    "\n",
    "# Plot cumulative returns\n",
    "ax = daily_returns_cumprod.plot(figsize=(20,10))\n",
    "sp500_cum_prod.plot(ax=ax)\n",
    "whale_cum_prod.plot(ax=ax)\n",
    "algo_cum_prod.plot(ax=ax)"
   ]
  },
  {
   "cell_type": "markdown",
   "id": "39bfa287-22c1-44f3-9bb5-65664ea1a2b8",
   "metadata": {},
   "source": [
    "## Risk Analysis\n",
    "Determine the risk of each portfolio:\n",
    "\n",
    "1. Create a box plot for each portfolio.\n",
    "2. Calculate the standard deviation for all portfolios\n",
    "3. Determine which portfolios are riskier than the S&P 500\n",
    "4. Calculate the Annualized Standard Deviation\n",
    "\n"
   ]
  },
  {
   "cell_type": "markdown",
   "id": "63e3ee08-ee8f-455b-8153-549de3f249b7",
   "metadata": {},
   "source": [
    "### Create a box plot for each portfolio"
   ]
  },
  {
   "cell_type": "code",
   "execution_count": 94,
   "id": "d57101ef-2c7c-43da-bf0a-42dd469103b8",
   "metadata": {},
   "outputs": [
    {
     "data": {
      "text/plain": [
       "<AxesSubplot:>"
      ]
     },
     "execution_count": 94,
     "metadata": {},
     "output_type": "execute_result"
    },
    {
     "data": {
      "image/png": "[encoded data removed]",
      "text/plain": [
       "<Figure size 432x288 with 1 Axes>"
      ]
     },
     "metadata": {
      "needs_background": "light"
     },
     "output_type": "display_data"
    }
   ],
   "source": [
    "# Box plot to visually show risk\n",
    "daily_std = daily_returns.std()\n",
    "daily_std = daily_std.sort_values(ascending=False)\n",
    "daily_std.plot.box()"
   ]
  },
  {
   "cell_type": "markdown",
   "id": "12cf8a1b-68f2-4211-b2fd-68b07b4f82f6",
   "metadata": {},
   "source": [
    "### Calculate Standard Deviations"
   ]
  },
  {
   "cell_type": "code",
   "execution_count": 95,
   "id": "e25ea1b6-863b-47f2-ae1f-d65b79cd7ab5",
   "metadata": {},
   "outputs": [],
   "source": [
    "# Calculate the daily standard deviations of all portfolios\n",
    "\n",
    "whale_std = whale_daily_returns.std()\n",
    "algo_std = algo_daily_returns.std()\n",
    "\n"
   ]
  },
  {
   "cell_type": "markdown",
   "id": "74ef0fbc-942b-4ec2-bd76-c41b63d518b6",
   "metadata": {},
   "source": [
    "### Determine which portfolios are riskier than the S&P 500"
   ]
  },
  {
   "cell_type": "code",
   "execution_count": 96,
   "id": "f17c5593-7a84-46ec-86a6-63297facee3b",
   "metadata": {},
   "outputs": [
    {
     "data": {
      "text/plain": [
       "Algo 2                       1438.209915\n",
       "Algo 1                         19.244662\n",
       "SP500                                NaN\n",
       "SOROS FUND MANAGEMENT LLC            NaN\n",
       "PAULSON & CO.INC.                    NaN\n",
       "dtype: float64"
      ]
     },
     "execution_count": 96,
     "metadata": {},
     "output_type": "execute_result"
    }
   ],
   "source": [
    "# Calculate  the daily standard deviation of S&P 500\n",
    "sp500_std = sp500_daily_returns.std()\n",
    "# Determine which portfolios are riskier than the S&P 500\n",
    "daily_std = daily_returns.std()\n",
    "daily_std = daily_std.sort_values(ascending=False)\n",
    "daily_std.head()\n"
   ]
  },
  {
   "cell_type": "markdown",
   "id": "76d775df-6e26-4ba4-a89f-cdc5a8e13521",
   "metadata": {},
   "source": [
    "### Calculate the Annualized Standard Deviation"
   ]
  },
  {
   "cell_type": "code",
   "execution_count": 97,
   "id": "808a4d61-0691-43d8-ad6c-f820a4dd2797",
   "metadata": {},
   "outputs": [
    {
     "data": {
      "text/plain": [
       "Algo 2                       22830.874606\n",
       "Algo 1                         305.499544\n",
       "SP500                                 NaN\n",
       "SOROS FUND MANAGEMENT LLC             NaN\n",
       "PAULSON & CO.INC.                     NaN\n",
       "dtype: float64"
      ]
     },
     "execution_count": 97,
     "metadata": {},
     "output_type": "execute_result"
    }
   ],
   "source": [
    "# Calculate the annualized standard deviation (252 trading days)\n",
    "\n",
    "annualized_std = daily_std * np.sqrt(252)\n",
    "\n",
    "annualized_std.head()"
   ]
  },
  {
   "cell_type": "markdown",
   "id": "d78362d2-d927-43a8-9a8b-2f5d0cf70d6e",
   "metadata": {},
   "source": [
    "## Rolling Statistics\n",
    "Risk changes over time. Analyze the rolling statistics for Risk and Beta.\n",
    "\n",
    "1. Calculate and plot the rolling standard deviation for all portfolios using a 21-day window\n",
    "2. Calculate the correlation between each stock to determine which portfolios may mimick the S&P 500\n",
    "3. Choose one portfolio, then calculate and plot the 60-day rolling beta between it and the S&P 500"
   ]
  },
  {
   "cell_type": "markdown",
   "id": "ef6c5269-0051-4444-abf6-95ca38bef156",
   "metadata": {},
   "source": [
    "### Calculate and plot rolling std for all portfolios with 21-day window"
   ]
  },
  {
   "cell_type": "code",
   "execution_count": 102,
   "id": "56497807-5b22-4f09-86af-04a816cdc7fc",
   "metadata": {},
   "outputs": [
    {
     "data": {
      "text/html": [
       "<div>\n",
       "<style scoped>\n",
       "    .dataframe tbody tr th:only-of-type {\n",
       "        vertical-align: middle;\n",
       "    }\n",
       "\n",
       "    .dataframe tbody tr th {\n",
       "        vertical-align: top;\n",
       "    }\n",
       "\n",
       "    .dataframe thead th {\n",
       "        text-align: right;\n",
       "    }\n",
       "</style>\n",
       "<table border=\"1\" class=\"dataframe\">\n",
       "  <thead>\n",
       "    <tr style=\"text-align: right;\">\n",
       "      <th></th>\n",
       "      <th>SP500</th>\n",
       "      <th>Algo 1</th>\n",
       "      <th>Algo 2</th>\n",
       "      <th>SOROS FUND MANAGEMENT LLC</th>\n",
       "      <th>PAULSON &amp; CO.INC.</th>\n",
       "      <th>TIGER GLOBAL MANAGEMENT LLC</th>\n",
       "      <th>BERKSHIRE HATHAWAY INC</th>\n",
       "    </tr>\n",
       "    <tr>\n",
       "      <th>Date</th>\n",
       "      <th></th>\n",
       "      <th></th>\n",
       "      <th></th>\n",
       "      <th></th>\n",
       "      <th></th>\n",
       "      <th></th>\n",
       "      <th></th>\n",
       "    </tr>\n",
       "  </thead>\n",
       "  <tbody>\n",
       "    <tr>\n",
       "      <th>2019-04-23</th>\n",
       "      <td>NaN</td>\n",
       "      <td>NaN</td>\n",
       "      <td>NaN</td>\n",
       "      <td>NaN</td>\n",
       "      <td>NaN</td>\n",
       "      <td>NaN</td>\n",
       "      <td>NaN</td>\n",
       "    </tr>\n",
       "    <tr>\n",
       "      <th>2019-04-22</th>\n",
       "      <td>NaN</td>\n",
       "      <td>NaN</td>\n",
       "      <td>NaN</td>\n",
       "      <td>NaN</td>\n",
       "      <td>NaN</td>\n",
       "      <td>NaN</td>\n",
       "      <td>NaN</td>\n",
       "    </tr>\n",
       "    <tr>\n",
       "      <th>2019-04-18</th>\n",
       "      <td>NaN</td>\n",
       "      <td>NaN</td>\n",
       "      <td>NaN</td>\n",
       "      <td>NaN</td>\n",
       "      <td>NaN</td>\n",
       "      <td>NaN</td>\n",
       "      <td>NaN</td>\n",
       "    </tr>\n",
       "    <tr>\n",
       "      <th>2019-04-17</th>\n",
       "      <td>NaN</td>\n",
       "      <td>NaN</td>\n",
       "      <td>NaN</td>\n",
       "      <td>NaN</td>\n",
       "      <td>NaN</td>\n",
       "      <td>NaN</td>\n",
       "      <td>NaN</td>\n",
       "    </tr>\n",
       "    <tr>\n",
       "      <th>2019-04-16</th>\n",
       "      <td>NaN</td>\n",
       "      <td>NaN</td>\n",
       "      <td>NaN</td>\n",
       "      <td>NaN</td>\n",
       "      <td>NaN</td>\n",
       "      <td>NaN</td>\n",
       "      <td>NaN</td>\n",
       "    </tr>\n",
       "    <tr>\n",
       "      <th>...</th>\n",
       "      <td>...</td>\n",
       "      <td>...</td>\n",
       "      <td>...</td>\n",
       "      <td>...</td>\n",
       "      <td>...</td>\n",
       "      <td>...</td>\n",
       "      <td>...</td>\n",
       "    </tr>\n",
       "    <tr>\n",
       "      <th>2015-03-09</th>\n",
       "      <td>0.368004</td>\n",
       "      <td>0.001257</td>\n",
       "      <td>0.000801</td>\n",
       "      <td>0.001330</td>\n",
       "      <td>0.000988</td>\n",
       "      <td>0.001077</td>\n",
       "      <td>0.000783</td>\n",
       "    </tr>\n",
       "    <tr>\n",
       "      <th>2015-03-06</th>\n",
       "      <td>0.466032</td>\n",
       "      <td>0.000926</td>\n",
       "      <td>0.000379</td>\n",
       "      <td>0.001013</td>\n",
       "      <td>0.000826</td>\n",
       "      <td>0.000771</td>\n",
       "      <td>0.000070</td>\n",
       "    </tr>\n",
       "    <tr>\n",
       "      <th>2015-03-05</th>\n",
       "      <td>0.258260</td>\n",
       "      <td>0.001037</td>\n",
       "      <td>0.000282</td>\n",
       "      <td>0.000948</td>\n",
       "      <td>0.000841</td>\n",
       "      <td>0.000663</td>\n",
       "      <td>0.000156</td>\n",
       "    </tr>\n",
       "    <tr>\n",
       "      <th>2015-03-04</th>\n",
       "      <td>0.226521</td>\n",
       "      <td>0.000586</td>\n",
       "      <td>0.000165</td>\n",
       "      <td>0.000933</td>\n",
       "      <td>0.000790</td>\n",
       "      <td>0.000396</td>\n",
       "      <td>0.000263</td>\n",
       "    </tr>\n",
       "    <tr>\n",
       "      <th>2015-03-03</th>\n",
       "      <td>0.051119</td>\n",
       "      <td>0.000635</td>\n",
       "      <td>-0.000023</td>\n",
       "      <td>0.000829</td>\n",
       "      <td>0.000546</td>\n",
       "      <td>0.000468</td>\n",
       "      <td>0.000134</td>\n",
       "    </tr>\n",
       "  </tbody>\n",
       "</table>\n",
       "<p>1043 rows × 7 columns</p>\n",
       "</div>"
      ],
      "text/plain": [
       "               SP500    Algo 1    Algo 2  SOROS FUND MANAGEMENT LLC  \\\n",
       "Date                                                                  \n",
       "2019-04-23       NaN       NaN       NaN                        NaN   \n",
       "2019-04-22       NaN       NaN       NaN                        NaN   \n",
       "2019-04-18       NaN       NaN       NaN                        NaN   \n",
       "2019-04-17       NaN       NaN       NaN                        NaN   \n",
       "2019-04-16       NaN       NaN       NaN                        NaN   \n",
       "...              ...       ...       ...                        ...   \n",
       "2015-03-09  0.368004  0.001257  0.000801                   0.001330   \n",
       "2015-03-06  0.466032  0.000926  0.000379                   0.001013   \n",
       "2015-03-05  0.258260  0.001037  0.000282                   0.000948   \n",
       "2015-03-04  0.226521  0.000586  0.000165                   0.000933   \n",
       "2015-03-03  0.051119  0.000635 -0.000023                   0.000829   \n",
       "\n",
       "            PAULSON & CO.INC.   TIGER GLOBAL MANAGEMENT LLC  \\\n",
       "Date                                                          \n",
       "2019-04-23                 NaN                          NaN   \n",
       "2019-04-22                 NaN                          NaN   \n",
       "2019-04-18                 NaN                          NaN   \n",
       "2019-04-17                 NaN                          NaN   \n",
       "2019-04-16                 NaN                          NaN   \n",
       "...                        ...                          ...   \n",
       "2015-03-09            0.000988                     0.001077   \n",
       "2015-03-06            0.000826                     0.000771   \n",
       "2015-03-05            0.000841                     0.000663   \n",
       "2015-03-04            0.000790                     0.000396   \n",
       "2015-03-03            0.000546                     0.000468   \n",
       "\n",
       "            BERKSHIRE HATHAWAY INC  \n",
       "Date                                \n",
       "2019-04-23                     NaN  \n",
       "2019-04-22                     NaN  \n",
       "2019-04-18                     NaN  \n",
       "2019-04-17                     NaN  \n",
       "2019-04-16                     NaN  \n",
       "...                            ...  \n",
       "2015-03-09                0.000783  \n",
       "2015-03-06                0.000070  \n",
       "2015-03-05                0.000156  \n",
       "2015-03-04                0.000263  \n",
       "2015-03-03                0.000134  \n",
       "\n",
       "[1043 rows x 7 columns]"
      ]
     },
     "execution_count": 102,
     "metadata": {},
     "output_type": "execute_result"
    }
   ],
   "source": [
    "# Calculate the rolling standard deviation for all portfolios using a 21-day window\n",
    "port_sma_21 = combined_df.rolling(window=21).mean()\n",
    "# Plot the rolling standard deviation\n",
    "port_sma_21"
   ]
  },
  {
   "cell_type": "markdown",
   "id": "a3cfc8fd-39ff-4649-a169-f500109772ab",
   "metadata": {},
   "source": [
    "### Calculate and plot the correlation"
   ]
  },
  {
   "cell_type": "code",
   "execution_count": 100,
   "id": "53cc6dd7-6719-4d25-93ab-f2e31c224d8a",
   "metadata": {},
   "outputs": [
    {
     "data": {
      "text/plain": [
       "<AxesSubplot:>"
      ]
     },
     "execution_count": 100,
     "metadata": {},
     "output_type": "execute_result"
    },
    {
     "data": {
      "image/png": "[encoded data removed]",
      "text/plain": [
       "<Figure size 432x288 with 2 Axes>"
      ]
     },
     "metadata": {
      "needs_background": "light"
     },
     "output_type": "display_data"
    }
   ],
   "source": [
    "# Calculate the correlation\n",
    "correlation = daily_returns.corr()\n",
    "# Display de correlation matrix\n",
    "sns.heatmap(correlation, vmin=-1, vmax=1)"
   ]
  },
  {
   "cell_type": "markdown",
   "id": "532a4adb-4691-4c8c-a05c-9bf7ce122009",
   "metadata": {},
   "source": [
    "### Calculate and Plot Beta for a chosen portfolio and the S&P 500"
   ]
  },
  {
   "cell_type": "code",
   "execution_count": 108,
   "id": "2f2eb769-a7f0-40b7-b774-a22c38783149",
   "metadata": {},
   "outputs": [
    {
     "ename": "AttributeError",
     "evalue": "'numpy.float64' object has no attribute 'plot'",
     "output_type": "error",
     "traceback": [
      "\u001b[1;31m---------------------------------------------------------------------------\u001b[0m",
      "\u001b[1;31mAttributeError\u001b[0m                            Traceback (most recent call last)",
      "\u001b[1;32m~\\AppData\\Local\\Temp/ipykernel_23216/1835615271.py\u001b[0m in \u001b[0;36m<module>\u001b[1;34m\u001b[0m\n\u001b[0;32m     10\u001b[0m \u001b[1;31m# Plot beta trend\u001b[0m\u001b[1;33m\u001b[0m\u001b[1;33m\u001b[0m\u001b[1;33m\u001b[0m\u001b[0m\n\u001b[0;32m     11\u001b[0m \u001b[1;33m\u001b[0m\u001b[0m\n\u001b[1;32m---> 12\u001b[1;33m \u001b[0mbeta\u001b[0m\u001b[1;33m.\u001b[0m\u001b[0mplot\u001b[0m\u001b[1;33m(\u001b[0m\u001b[0mfigsize\u001b[0m\u001b[1;33m=\u001b[0m\u001b[1;33m(\u001b[0m\u001b[1;36m20\u001b[0m\u001b[1;33m,\u001b[0m\u001b[1;36m10\u001b[0m\u001b[1;33m)\u001b[0m\u001b[1;33m)\u001b[0m\u001b[1;33m\u001b[0m\u001b[1;33m\u001b[0m\u001b[0m\n\u001b[0m",
      "\u001b[1;31mAttributeError\u001b[0m: 'numpy.float64' object has no attribute 'plot'"
     ]
    }
   ],
   "source": [
    "# Calculate covariance of a single portfolio\n",
    "berk_covar = daily_returns['BERKSHIRE HATHAWAY INC'].cov(daily_returns['SP500'])\n",
    "\n",
    "# Calculate variance of S&P 500\n",
    "variance = daily_returns['SP500'].var()\n",
    "\n",
    "# Computing beta\n",
    "berk_beta = berk_covar / variance\n",
    "\n",
    "# Plot beta trend\n",
    "\n",
    "rolling_berk_beta = daily\n"
   ]
  },
  {
   "cell_type": "markdown",
   "id": "3c64c39d-2cf9-4228-b7af-aa7b7684e73f",
   "metadata": {},
   "source": [
    "### Rolling Statistics Challenge: Exponentially Weighted Average\n",
    "An alternative way to calculate a rolling window is to take the exponentially weighted moving average. This is like a moving window average, but it assigns greater importance to more recent observations. Try calculating the ewm with a 21-day half-life."
   ]
  },
  {
   "cell_type": "code",
   "execution_count": 35,
   "id": "392df17b-d285-44be-92aa-494d395eef8e",
   "metadata": {},
   "outputs": [],
   "source": [
    "# Use `ewm` to calculate the rolling window"
   ]
  },
  {
   "cell_type": "markdown",
   "id": "b9ba14be-dcef-4972-a474-7ed349ef5b80",
   "metadata": {},
   "source": [
    "## Sharpe Ratios\n",
    "In reality, investment managers and thier institutional investors look at the ratio of return-to-risk, and not just returns alone. After all, if you could invest in one of two portfolios, and each offered the same 10% return, yet one offered lower risk, you'd take that one, right?\n",
    "\n",
    "### Using the daily returns, calculate and visualize the Sharpe ratios using a bar plot"
   ]
  },
  {
   "cell_type": "code",
   "execution_count": 36,
   "id": "18b1fe14-a461-4572-ac40-e8793250b366",
   "metadata": {},
   "outputs": [],
   "source": [
    "# Annualized Sharpe Ratios"
   ]
  },
  {
   "cell_type": "code",
   "execution_count": 37,
   "id": "c6c6618b-4719-4463-a4fb-24b67bdf7bfa",
   "metadata": {},
   "outputs": [],
   "source": [
    "# Visualize the sharpe ratios as a bar plot"
   ]
  },
  {
   "cell_type": "markdown",
   "id": "9734d37e-2749-44c2-b429-49d361b13f35",
   "metadata": {},
   "source": [
    "### Determine whether the algorithmic strategies outperform both the market (S&P 500) and the whales portfolios.\n",
    "Write your answer here!"
   ]
  },
  {
   "cell_type": "markdown",
   "id": "5e3d04d2-0370-4298-af7b-8a14b1efa400",
   "metadata": {},
   "source": [
    "## Create Custom Portfolio\n",
    "In this section, you will build your own portfolio of stocks, calculate the returns, and compare the results to the Whale Portfolios and the S&P 500.\n",
    "\n",
    "1. Choose 3-5 custom stocks with at last 1 year's worth of historic prices and create a DataFrame of the closing prices and dates for each stock.\n",
    "2. Calculate the weighted returns for the portfolio assuming an equal number of shares for each stock\n",
    "3. Join your portfolio returns to the DataFrame that contains all of the portfolio returns\n",
    "4. Re-run the performance and risk analysis with your portfolio to see how it compares to the others\n",
    "5. Include correlation analysis to determine which stocks (if any) are correlated"
   ]
  },
  {
   "cell_type": "code",
   "execution_count": null,
   "id": "bdfb33c6-f6a3-4c5d-b449-8e8884ab7a3b",
   "metadata": {},
   "outputs": [],
   "source": []
  }
 ],
 "metadata": {
  "kernelspec": {
   "display_name": "Python 3 (ipykernel)",
   "language": "python",
   "name": "python3"
  },
  "language_info": {
   "codemirror_mode": {
    "name": "ipython",
    "version": 3
   },
   "file_extension": ".py",
   "mimetype": "text/x-python",
   "name": "python",
   "nbconvert_exporter": "python",
   "pygments_lexer": "ipython3",
   "version": "3.7.11"
  }
 },
 "nbformat": 4,
 "nbformat_minor": 5
}
